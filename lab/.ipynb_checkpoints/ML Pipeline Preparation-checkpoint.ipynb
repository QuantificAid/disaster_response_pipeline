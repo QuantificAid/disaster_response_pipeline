{
 "cells": [
  {
   "cell_type": "markdown",
   "metadata": {},
   "source": [
    "# ML Pipeline Preparation\n",
    "Follow the instructions below to help you create your ML pipeline.\n",
    "### 1. Import libraries and load data from database.\n",
    "- Import Python libraries\n",
    "- Load dataset from database with [`read_sql_table`](https://pandas.pydata.org/pandas-docs/stable/generated/pandas.read_sql_table.html)\n",
    "- Define feature and target variables X and Y"
   ]
  },
  {
   "cell_type": "code",
   "execution_count": null,
   "metadata": {},
   "outputs": [],
   "source": [
    "# import libraries\n",
    "import pandas as pd\n",
    "import re\n",
    "import nltk\n",
    "\n",
    "from sqlalchemy import create_engine\n",
    "\n",
    "# imports from nltk-submodules\n",
    "from nltk.corpus import stopwords\n",
    "from nltk.stem.wordnet import WordNetLemmatizer\n",
    "from nltk.tokenize import word_tokenize\n",
    "\n",
    "# imports from sklearn-submodules\n",
    "from sklearn.feature_extraction.text import CountVectorizer, TfidfTransformer\n",
    "from sklearn.ensemble import RandomForestClassifier\n",
    "from sklearn.discriminant_analysis import LinearDiscriminantAnalysis¶\n",
    "from sklearn.multioutput import MultiOutputClassifier\n",
    "from sklearn.pipeline import Pipeline\n",
    "from sklearn.model_selection import StratifiedShuffleSplit, train_test_split, GridSearchCV\n",
    "from sklearn.metrics import classification_report, accuracy_score, f1_score, precision_score, recall_score\n",
    "\n",
    "# downloads from nltk\n",
    "nltk.download('stopwords', quiet=True)\n",
    "nltk.download('punkt', quiet=True)\n",
    "nltk.download('wordnet', quiet=True);"
   ]
  },
  {
   "cell_type": "code",
   "execution_count": 46,
   "metadata": {},
   "outputs": [],
   "source": [
    "# load data from database\n",
    "engine = create_engine('sqlite:///../data/DisasterResponse.db')\n",
    "df = pd.read_sql_table('data/DisasterResponse.db', engine)\n",
    "X = df[['message']].values[:, 0]\n",
    "Y = df[[column for column in df.columns if column != 'message']].values"
   ]
  },
  {
   "cell_type": "markdown",
   "metadata": {},
   "source": [
    "### 2. Write a tokenization function to process your text data"
   ]
  },
  {
   "cell_type": "code",
   "execution_count": 47,
   "metadata": {},
   "outputs": [],
   "source": [
    "def tokenize(text):\n",
    "    \n",
    "    # define stop_words and lemmatizer \n",
    "    stop_words = stopwords.words(\"english\")\n",
    "    lemmatizer = WordNetLemmatizer()\n",
    "    \n",
    "    # normalize case and remove punctuation\n",
    "    text = re.sub(r\"[^a-zA-Z0-9]\", \" \", text.lower())\n",
    "    \n",
    "    # tokenize text\n",
    "    tokens = word_tokenize(text)\n",
    "    \n",
    "    # lemmatize and remove stop words\n",
    "    tokens = [lemmatizer.lemmatize(word) for word in tokens if word not in stop_words]\n",
    "    \n",
    "    return tokens"
   ]
  },
  {
   "cell_type": "markdown",
   "metadata": {},
   "source": [
    "### 3. Build a machine learning pipeline\n",
    "This machine pipeline should take in the `message` column as input and output classification results on the other 36 categories in the dataset. You may find the [MultiOutputClassifier](http://scikit-learn.org/stable/modules/generated/sklearn.multioutput.MultiOutputClassifier.html) helpful for predicting multiple target variables."
   ]
  },
  {
   "cell_type": "code",
   "execution_count": 48,
   "metadata": {},
   "outputs": [],
   "source": [
    "pipeline = Pipeline([\n",
    "    ('vectr', CountVectorizer(tokenizer=tokenize)),\n",
    "    ('tfidf', TfidfTransformer()),\n",
    "    ('rfclf', MultiOutputClassifier(RandomForestClassifier(class_weight='balanced', n_estimators=20)))\n",
    "], verbose=True)"
   ]
  },
  {
   "cell_type": "markdown",
   "metadata": {},
   "source": [
    "### 4. Train pipeline\n",
    "- Split data into train and test sets\n",
    "- Train pipeline"
   ]
  },
  {
   "cell_type": "code",
   "execution_count": 49,
   "metadata": {},
   "outputs": [],
   "source": [
    "X_train, X_test, Y_train, Y_test = train_test_split(X, Y)"
   ]
  },
  {
   "cell_type": "code",
   "execution_count": 51,
   "metadata": {},
   "outputs": [
    {
     "name": "stdout",
     "output_type": "stream",
     "text": [
      "[Pipeline] ............. (step 1 of 3) Processing vectr, total=   8.4s\n",
      "[Pipeline] ............. (step 2 of 3) Processing tfidf, total=   0.0s\n",
      "[Pipeline] ............. (step 3 of 3) Processing rfclf, total= 1.1min\n"
     ]
    }
   ],
   "source": [
    "pipeline.fit(X_train, Y_train);"
   ]
  },
  {
   "cell_type": "markdown",
   "metadata": {},
   "source": [
    "### 5. Test your model\n",
    "Report the f1 score, precision and recall for each output category of the dataset. You can do this by iterating through the columns and calling sklearn's `classification_report` on each."
   ]
  },
  {
   "cell_type": "code",
   "execution_count": 52,
   "metadata": {},
   "outputs": [
    {
     "name": "stdout",
     "output_type": "stream",
     "text": [
      "Training scores:\n",
      "                        precision    recall  f1-score   support\n",
      "\n",
      "               related       1.00      1.00      1.00     14966\n",
      "               request       0.99      0.97      0.98      3376\n",
      "                 offer       0.97      0.81      0.89        91\n",
      "           aid_related       1.00      0.99      0.99      8161\n",
      "          medical_help       1.00      0.95      0.97      1568\n",
      "      medical_products       1.00      0.93      0.96      1009\n",
      "     search_and_rescue       0.99      0.87      0.93       546\n",
      "              security       0.99      0.87      0.93       359\n",
      "              military       0.99      0.95      0.97       636\n",
      "           child_alone       0.00      0.00      0.00         0\n",
      "                 water       1.00      0.98      0.99      1229\n",
      "                  food       1.00      0.98      0.99      2205\n",
      "               shelter       1.00      0.97      0.99      1699\n",
      "              clothing       1.00      0.95      0.97       303\n",
      "                 money       1.00      0.90      0.95       453\n",
      "        missing_people       1.00      0.88      0.93       219\n",
      "              refugees       1.00      0.91      0.95       651\n",
      "                 death       1.00      0.96      0.98       892\n",
      "             other_aid       0.99      0.94      0.97      2634\n",
      "infrastructure_related       1.00      0.92      0.95      1312\n",
      "             transport       1.00      0.93      0.96       913\n",
      "             buildings       1.00      0.95      0.98       992\n",
      "           electricity       1.00      0.93      0.96       389\n",
      "                 tools       1.00      0.82      0.90       110\n",
      "             hospitals       1.00      0.87      0.93       226\n",
      "                 shops       1.00      0.86      0.93        96\n",
      "           aid_centers       0.98      0.88      0.93       229\n",
      "  other_infrastructure       1.00      0.90      0.95       887\n",
      "       weather_related       1.00      0.99      0.99      5556\n",
      "                floods       1.00      0.97      0.98      1636\n",
      "                 storm       1.00      0.99      0.99      1876\n",
      "                  fire       1.00      0.89      0.94       215\n",
      "            earthquake       0.99      0.98      0.99      1871\n",
      "                  cold       0.98      0.94      0.96       399\n",
      "         other_weather       1.00      0.92      0.96      1029\n",
      "         direct_report       1.00      0.97      0.98      3801\n",
      "\n",
      "             micro avg       1.00      0.97      0.98     62534\n",
      "             macro avg       0.97      0.90      0.93     62534\n",
      "          weighted avg       1.00      0.97      0.98     62534\n",
      "           samples avg       0.76      0.75      0.76     62534\n",
      "\n"
     ]
    },
    {
     "name": "stderr",
     "output_type": "stream",
     "text": [
      "/anaconda3/envs/desaster_response_pipeline/lib/python3.7/site-packages/sklearn/metrics/classification.py:1437: UndefinedMetricWarning: Precision and F-score are ill-defined and being set to 0.0 in labels with no predicted samples.\n",
      "  'precision', 'predicted', average, warn_for)\n",
      "/anaconda3/envs/desaster_response_pipeline/lib/python3.7/site-packages/sklearn/metrics/classification.py:1439: UndefinedMetricWarning: Recall and F-score are ill-defined and being set to 0.0 in labels with no true samples.\n",
      "  'recall', 'true', average, warn_for)\n",
      "/anaconda3/envs/desaster_response_pipeline/lib/python3.7/site-packages/sklearn/metrics/classification.py:1437: UndefinedMetricWarning: Precision and F-score are ill-defined and being set to 0.0 in samples with no predicted labels.\n",
      "  'precision', 'predicted', average, warn_for)\n",
      "/anaconda3/envs/desaster_response_pipeline/lib/python3.7/site-packages/sklearn/metrics/classification.py:1439: UndefinedMetricWarning: Recall and F-score are ill-defined and being set to 0.0 in samples with no true labels.\n",
      "  'recall', 'true', average, warn_for)\n"
     ]
    },
    {
     "name": "stdout",
     "output_type": "stream",
     "text": [
      "Testing scores:\n",
      "                        precision    recall  f1-score   support\n",
      "\n",
      "               related       0.86      0.91      0.88      4940\n",
      "               request       0.76      0.51      0.61      1098\n",
      "                 offer       0.00      0.00      0.00        27\n",
      "           aid_related       0.74      0.67      0.70      2699\n",
      "          medical_help       0.59      0.08      0.14       516\n",
      "      medical_products       0.71      0.10      0.17       304\n",
      "     search_and_rescue       0.57      0.02      0.04       178\n",
      "              security       0.00      0.00      0.00       112\n",
      "              military       0.50      0.04      0.07       224\n",
      "           child_alone       0.00      0.00      0.00         0\n",
      "                 water       0.80      0.36      0.50       443\n",
      "                  food       0.83      0.57      0.67       718\n",
      "               shelter       0.85      0.28      0.42       615\n",
      "              clothing       0.57      0.04      0.07       102\n",
      "                 money       0.50      0.01      0.01       151\n",
      "        missing_people       0.50      0.01      0.02        79\n",
      "              refugees       0.67      0.03      0.05       224\n",
      "                 death       0.87      0.09      0.16       302\n",
      "             other_aid       0.54      0.08      0.14       812\n",
      "infrastructure_related       0.14      0.00      0.01       393\n",
      "             transport       0.75      0.04      0.08       288\n",
      "             buildings       0.74      0.10      0.18       341\n",
      "           electricity       1.00      0.01      0.01       143\n",
      "                 tools       0.00      0.00      0.00        49\n",
      "             hospitals       0.00      0.00      0.00        57\n",
      "                 shops       0.00      0.00      0.00        24\n",
      "           aid_centers       0.00      0.00      0.00        80\n",
      "  other_infrastructure       0.33      0.01      0.01       264\n",
      "       weather_related       0.82      0.67      0.74      1741\n",
      "                floods       0.88      0.22      0.35       519\n",
      "                 storm       0.72      0.46      0.56       567\n",
      "                  fire       0.00      0.00      0.00        67\n",
      "            earthquake       0.89      0.65      0.75       584\n",
      "                  cold       0.43      0.02      0.04       131\n",
      "         other_weather       1.00      0.01      0.02       347\n",
      "         direct_report       0.73      0.38      0.50      1274\n",
      "\n",
      "             micro avg       0.81      0.50      0.62     20413\n",
      "             macro avg       0.54      0.18      0.22     20413\n",
      "          weighted avg       0.74      0.50      0.55     20413\n",
      "           samples avg       0.62      0.44      0.47     20413\n",
      "\n"
     ]
    }
   ],
   "source": [
    "target_names = [column for column in df.columns if column != 'message']\n",
    "\n",
    "Y_pred = pipeline.predict(X_train)\n",
    "print(\"Training scores:\")\n",
    "print(classification_report(Y_train, Y_pred, target_names=target_names))\n",
    "\n",
    "Y_pred = pipeline.predict(X_test)\n",
    "print(\"Testing scores:\")\n",
    "print(classification_report(Y_test, Y_pred, target_names=target_names))"
   ]
  },
  {
   "cell_type": "markdown",
   "metadata": {},
   "source": [
    "### 6. Improve your model\n",
    "Use grid search to find better parameters."
   ]
  },
  {
   "cell_type": "code",
   "execution_count": 53,
   "metadata": {},
   "outputs": [
    {
     "name": "stdout",
     "output_type": "stream",
     "text": [
      "rfclf__estimator__bootstrap: True\n",
      "rfclf__estimator__class_weight: balanced\n",
      "rfclf__estimator__criterion: gini\n",
      "rfclf__estimator__max_depth: None\n",
      "rfclf__estimator__max_features: auto\n",
      "rfclf__estimator__max_leaf_nodes: None\n",
      "rfclf__estimator__min_impurity_decrease: 0.0\n",
      "rfclf__estimator__min_impurity_split: None\n",
      "rfclf__estimator__min_samples_leaf: 1\n",
      "rfclf__estimator__min_samples_split: 2\n",
      "rfclf__estimator__min_weight_fraction_leaf: 0.0\n",
      "rfclf__estimator__n_estimators: 20\n",
      "rfclf__estimator__n_jobs: None\n",
      "rfclf__estimator__oob_score: False\n",
      "rfclf__estimator__random_state: None\n",
      "rfclf__estimator__verbose: 0\n",
      "rfclf__estimator__warm_start: False\n",
      "rfclf__estimator: RandomForestClassifier(bootstrap=True, class_weight='balanced',\n",
      "                       criterion='gini', max_depth=None, max_features='auto',\n",
      "                       max_leaf_nodes=None, min_impurity_decrease=0.0,\n",
      "                       min_impurity_split=None, min_samples_leaf=1,\n",
      "                       min_samples_split=2, min_weight_fraction_leaf=0.0,\n",
      "                       n_estimators=20, n_jobs=None, oob_score=False,\n",
      "                       random_state=None, verbose=0, warm_start=False)\n",
      "rfclf__n_jobs: None\n"
     ]
    }
   ],
   "source": [
    "for interesting_param in [param for param in pipeline.get_params(deep=True).keys() if param[0:7] == \"rfclf__\"]:\n",
    "    print(interesting_param+\":\", pipeline.get_params()[interesting_param])"
   ]
  },
  {
   "cell_type": "code",
   "execution_count": 54,
   "metadata": {},
   "outputs": [],
   "source": [
    "parameters = {\n",
    "    'rfclf__estimator__max_features':['auto', None],\n",
    "    'rfclf__estimator__n_estimators':[10, 20]\n",
    "}\n",
    "\n",
    "cv = GridSearchCV(pipeline, parameters, scoring='f1_weighted', cv=2, verbose=3, n_jobs=-1)"
   ]
  },
  {
   "cell_type": "code",
   "execution_count": null,
   "metadata": {},
   "outputs": [
    {
     "name": "stdout",
     "output_type": "stream",
     "text": [
      "Fitting 2 folds for each of 4 candidates, totalling 8 fits\n"
     ]
    },
    {
     "name": "stderr",
     "output_type": "stream",
     "text": [
      "[Parallel(n_jobs=-1)]: Using backend LokyBackend with 8 concurrent workers.\n",
      "[Parallel(n_jobs=-1)]: Done   2 out of   8 | elapsed:   51.3s remaining:  2.6min\n",
      "[Parallel(n_jobs=-1)]: Done   5 out of   8 | elapsed:  4.1min remaining:  2.5min\n",
      "[Parallel(n_jobs=-1)]: Done   8 out of   8 | elapsed:  7.3min remaining:    0.0s\n",
      "[Parallel(n_jobs=-1)]: Done   8 out of   8 | elapsed:  7.3min finished\n"
     ]
    },
    {
     "name": "stdout",
     "output_type": "stream",
     "text": [
      "[Pipeline] ............. (step 1 of 3) Processing vectr, total=   8.5s\n",
      "[Pipeline] ............. (step 2 of 3) Processing tfidf, total=   0.0s\n"
     ]
    }
   ],
   "source": [
    "cv.fit(X_train, Y_train);"
   ]
  },
  {
   "cell_type": "markdown",
   "metadata": {},
   "source": [
    "### 7. Test your model\n",
    "Show the accuracy, precision, and recall of the tuned model.  \n",
    "\n",
    "Since this project focuses on code quality, process, and  pipelines, there is no minimum performance metric needed to pass. However, make sure to fine tune your models for accuracy, precision and recall to make your project stand out - especially for your portfolio!"
   ]
  },
  {
   "cell_type": "code",
   "execution_count": null,
   "metadata": {},
   "outputs": [],
   "source": [
    "cv.best_params_"
   ]
  },
  {
   "cell_type": "code",
   "execution_count": null,
   "metadata": {},
   "outputs": [],
   "source": [
    "target_names = [column for column in df.columns if column != 'message']\n",
    "\n",
    "Y_pred = cv.predict(X_train)\n",
    "print(\"Training scores:\")\n",
    "print(classification_report(Y_train, Y_pred, target_names=target_names))\n",
    "\n",
    "Y_pred = cv.predict(X_test)\n",
    "print(\"Testing scores:\")\n",
    "print(classification_report(Y_test, Y_pred, target_names=target_names))"
   ]
  },
  {
   "cell_type": "markdown",
   "metadata": {},
   "source": [
    "### 8. Try improving your model further. Here are a few ideas:\n",
    "* try other machine learning algorithms\n",
    "* add other features besides the TF-IDF"
   ]
  },
  {
   "cell_type": "code",
   "execution_count": null,
   "metadata": {},
   "outputs": [],
   "source": [
    "pipeline = Pipeline([\n",
    "    ('vectr', CountVectorizer(tokenizer=tokenize)),\n",
    "    ('tfidf', TfidfTransformer()),\n",
    "    ('rfclf', MultiOutputClassifier(LinearDiscriminantAnalysis()))\n",
    "], verbose=True)"
   ]
  },
  {
   "cell_type": "code",
   "execution_count": null,
   "metadata": {},
   "outputs": [],
   "source": [
    "pipeline.fit(X_train, Y_train);"
   ]
  },
  {
   "cell_type": "code",
   "execution_count": null,
   "metadata": {},
   "outputs": [],
   "source": [
    "target_names = [column for column in df.columns if column != 'message']\n",
    "\n",
    "Y_pred = pipeline.predict(X_train)\n",
    "print(\"Training scores:\")\n",
    "print(classification_report(Y_train, Y_pred, target_names=target_names))\n",
    "\n",
    "Y_pred = pipeline.predict(X_test)\n",
    "print(\"Testing scores:\")\n",
    "print(classification_report(Y_test, Y_pred, target_names=target_names))"
   ]
  },
  {
   "cell_type": "markdown",
   "metadata": {},
   "source": [
    "### 9. Export your model as a pickle file"
   ]
  },
  {
   "cell_type": "code",
   "execution_count": null,
   "metadata": {},
   "outputs": [],
   "source": []
  },
  {
   "cell_type": "markdown",
   "metadata": {},
   "source": [
    "### 10. Use this notebook to complete `train.py`\n",
    "Use the template file attached in the Resources folder to write a script that runs the steps above to create a database and export a model based on a new dataset specified by the user."
   ]
  },
  {
   "cell_type": "code",
   "execution_count": null,
   "metadata": {},
   "outputs": [],
   "source": []
  }
 ],
 "metadata": {
  "kernelspec": {
   "display_name": "Python 3",
   "language": "python",
   "name": "python3"
  },
  "language_info": {
   "codemirror_mode": {
    "name": "ipython",
    "version": 3
   },
   "file_extension": ".py",
   "mimetype": "text/x-python",
   "name": "python",
   "nbconvert_exporter": "python",
   "pygments_lexer": "ipython3",
   "version": "3.7.4"
  }
 },
 "nbformat": 4,
 "nbformat_minor": 4
}
