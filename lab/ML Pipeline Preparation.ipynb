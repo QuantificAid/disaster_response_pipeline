{
 "cells": [
  {
   "cell_type": "markdown",
   "metadata": {},
   "source": [
    "# ML Pipeline Preparation\n",
    "Follow the instructions below to help you create your ML pipeline.\n",
    "### 1. Import libraries and load data from database.\n",
    "- Import Python libraries\n",
    "- Load dataset from database with [`read_sql_table`](https://pandas.pydata.org/pandas-docs/stable/generated/pandas.read_sql_table.html)\n",
    "- Define feature and target variables X and Y"
   ]
  },
  {
   "cell_type": "code",
   "execution_count": 20,
   "metadata": {},
   "outputs": [],
   "source": [
    "# import libraries\n",
    "import re\n",
    "import pickle\n",
    "\n",
    "import pandas as pd\n",
    "import nltk\n",
    "\n",
    "from sqlalchemy import create_engine\n",
    "\n",
    "# imports from nltk-submodules\n",
    "from nltk.corpus import stopwords\n",
    "from nltk.stem.wordnet import WordNetLemmatizer\n",
    "from nltk.tokenize import word_tokenize\n",
    "\n",
    "# imports from sklearn-submodules\n",
    "from sklearn.feature_extraction.text import CountVectorizer, TfidfTransformer\n",
    "from sklearn.ensemble import RandomForestClassifier\n",
    "from sklearn.multioutput import MultiOutputClassifier, ClassifierChain\n",
    "from sklearn.pipeline import Pipeline\n",
    "from sklearn.model_selection import StratifiedShuffleSplit, train_test_split, GridSearchCV\n",
    "from sklearn.metrics import classification_report, accuracy_score, f1_score, precision_score, recall_score\n",
    "from sklearn.neighbors import KNeighborsClassifier\n",
    "\n",
    "# downloads from nltk\n",
    "nltk.download('stopwords', quiet=True)\n",
    "nltk.download('punkt', quiet=True)\n",
    "nltk.download('wordnet', quiet=True);"
   ]
  },
  {
   "cell_type": "code",
   "execution_count": 26,
   "metadata": {},
   "outputs": [],
   "source": [
    "# load data from database\n",
    "engine = create_engine('sqlite:///../data/DisasterResponse.db')\n",
    "df = pd.read_sql_table('data/DisasterResponse.db', engine)\n",
    "X = df[['message']].values[:, 0]\n",
    "Y = df[[column for column in df.columns if column != 'message']].values"
   ]
  },
  {
   "cell_type": "markdown",
   "metadata": {},
   "source": [
    "### 2. Write a tokenization function to process your text data"
   ]
  },
  {
   "cell_type": "code",
   "execution_count": 3,
   "metadata": {},
   "outputs": [],
   "source": [
    "def tokenize(text):\n",
    "    \n",
    "    # define stop_words and lemmatizer \n",
    "    stop_words = stopwords.words(\"english\")\n",
    "    lemmatizer = WordNetLemmatizer()\n",
    "    \n",
    "    # normalize case and remove punctuation\n",
    "    text = re.sub(r\"[^a-zA-Z0-9]\", \" \", text.lower())\n",
    "    \n",
    "    # tokenize text\n",
    "    tokens = word_tokenize(text)\n",
    "    \n",
    "    # lemmatize and remove stop words\n",
    "    tokens = [lemmatizer.lemmatize(word) for word in tokens if word not in stop_words]\n",
    "    \n",
    "    return tokens"
   ]
  },
  {
   "cell_type": "markdown",
   "metadata": {},
   "source": [
    "### 3. Build a machine learning pipeline\n",
    "This machine pipeline should take in the `message` column as input and output classification results on the other 36 categories in the dataset. You may find the [MultiOutputClassifier](http://scikit-learn.org/stable/modules/generated/sklearn.multioutput.MultiOutputClassifier.html) helpful for predicting multiple target variables."
   ]
  },
  {
   "cell_type": "code",
   "execution_count": 4,
   "metadata": {},
   "outputs": [],
   "source": [
    "pipeline = Pipeline([\n",
    "    ('vectr', CountVectorizer(tokenizer=tokenize)),\n",
    "    ('tfidf', TfidfTransformer()),\n",
    "    ('rfclf', MultiOutputClassifier(RandomForestClassifier(class_weight='balanced', n_estimators=20)))\n",
    "])"
   ]
  },
  {
   "cell_type": "markdown",
   "metadata": {},
   "source": [
    "### 4. Train pipeline\n",
    "- Split data into train and test sets\n",
    "- Train pipeline"
   ]
  },
  {
   "cell_type": "code",
   "execution_count": 5,
   "metadata": {},
   "outputs": [],
   "source": [
    "X_train, X_test, Y_train, Y_test = train_test_split(X, Y)"
   ]
  },
  {
   "cell_type": "code",
   "execution_count": 6,
   "metadata": {},
   "outputs": [],
   "source": [
    "pipeline.fit(X_train, Y_train);"
   ]
  },
  {
   "cell_type": "markdown",
   "metadata": {},
   "source": [
    "### 5. Test your model\n",
    "Report the f1 score, precision and recall for each output category of the dataset. You can do this by iterating through the columns and calling sklearn's `classification_report` on each."
   ]
  },
  {
   "cell_type": "code",
   "execution_count": 7,
   "metadata": {},
   "outputs": [
    {
     "name": "stdout",
     "output_type": "stream",
     "text": [
      "Training scores:\n",
      "                        precision    recall  f1-score   support\n",
      "\n",
      "               related       1.00      1.00      1.00     14919\n",
      "               request       0.99      0.97      0.98      3387\n",
      "                 offer       0.96      0.86      0.91        93\n",
      "           aid_related       1.00      0.99      0.99      8197\n",
      "          medical_help       1.00      0.95      0.97      1562\n",
      "      medical_products       0.99      0.95      0.97       998\n",
      "     search_and_rescue       1.00      0.87      0.93       540\n",
      "              security       0.98      0.86      0.92       356\n",
      "              military       0.99      0.95      0.97       641\n",
      "           child_alone       0.00      0.00      0.00         0\n",
      "                 water       1.00      0.97      0.99      1260\n",
      "                  food       1.00      0.99      0.99      2223\n",
      "               shelter       1.00      0.97      0.99      1743\n",
      "              clothing       1.00      0.94      0.97       312\n",
      "                 money       1.00      0.92      0.96       450\n",
      "        missing_people       0.99      0.86      0.92       230\n",
      "              refugees       1.00      0.92      0.96       678\n",
      "                 death       1.00      0.94      0.97       866\n",
      "             other_aid       0.99      0.95      0.97      2585\n",
      "infrastructure_related       0.99      0.92      0.95      1311\n",
      "             transport       1.00      0.90      0.94       921\n",
      "             buildings       1.00      0.96      0.98       999\n",
      "           electricity       1.00      0.91      0.95       421\n",
      "                 tools       0.98      0.86      0.91       118\n",
      "             hospitals       1.00      0.88      0.94       223\n",
      "                 shops       1.00      0.85      0.92        92\n",
      "           aid_centers       0.97      0.90      0.94       246\n",
      "  other_infrastructure       1.00      0.90      0.94       886\n",
      "       weather_related       1.00      0.99      0.99      5460\n",
      "                floods       0.99      0.96      0.98      1614\n",
      "                 storm       1.00      0.99      0.99      1822\n",
      "                  fire       1.00      0.87      0.93       213\n",
      "            earthquake       0.99      0.98      0.99      1814\n",
      "                  cold       0.98      0.94      0.96       397\n",
      "         other_weather       0.99      0.91      0.95      1026\n",
      "         direct_report       0.99      0.97      0.98      3865\n",
      "\n",
      "             micro avg       1.00      0.97      0.98     62468\n",
      "             macro avg       0.97      0.90      0.93     62468\n",
      "          weighted avg       1.00      0.97      0.98     62468\n",
      "           samples avg       0.76      0.75      0.75     62468\n",
      "\n"
     ]
    },
    {
     "name": "stderr",
     "output_type": "stream",
     "text": [
      "/anaconda3/envs/desaster_response_pipeline/lib/python3.7/site-packages/sklearn/metrics/classification.py:1437: UndefinedMetricWarning: Precision and F-score are ill-defined and being set to 0.0 in labels with no predicted samples.\n",
      "  'precision', 'predicted', average, warn_for)\n",
      "/anaconda3/envs/desaster_response_pipeline/lib/python3.7/site-packages/sklearn/metrics/classification.py:1439: UndefinedMetricWarning: Recall and F-score are ill-defined and being set to 0.0 in labels with no true samples.\n",
      "  'recall', 'true', average, warn_for)\n",
      "/anaconda3/envs/desaster_response_pipeline/lib/python3.7/site-packages/sklearn/metrics/classification.py:1437: UndefinedMetricWarning: Precision and F-score are ill-defined and being set to 0.0 in samples with no predicted labels.\n",
      "  'precision', 'predicted', average, warn_for)\n",
      "/anaconda3/envs/desaster_response_pipeline/lib/python3.7/site-packages/sklearn/metrics/classification.py:1439: UndefinedMetricWarning: Recall and F-score are ill-defined and being set to 0.0 in samples with no true labels.\n",
      "  'recall', 'true', average, warn_for)\n"
     ]
    },
    {
     "name": "stdout",
     "output_type": "stream",
     "text": [
      "Testing scores:\n",
      "                        precision    recall  f1-score   support\n",
      "\n",
      "               related       0.86      0.92      0.89      4987\n",
      "               request       0.76      0.50      0.60      1087\n",
      "                 offer       0.00      0.00      0.00        25\n",
      "           aid_related       0.74      0.70      0.72      2663\n",
      "          medical_help       0.70      0.09      0.16       522\n",
      "      medical_products       0.79      0.08      0.15       315\n",
      "     search_and_rescue       0.50      0.01      0.02       184\n",
      "              security       0.00      0.00      0.00       115\n",
      "              military       0.43      0.03      0.05       219\n",
      "           child_alone       0.00      0.00      0.00         0\n",
      "                 water       0.90      0.29      0.44       412\n",
      "                  food       0.85      0.46      0.60       700\n",
      "               shelter       0.80      0.21      0.33       571\n",
      "              clothing       0.50      0.03      0.06        93\n",
      "                 money       1.00      0.03      0.06       154\n",
      "        missing_people       0.00      0.00      0.00        68\n",
      "              refugees       0.60      0.03      0.06       197\n",
      "                 death       0.79      0.09      0.16       328\n",
      "             other_aid       0.62      0.06      0.12       861\n",
      "infrastructure_related       0.67      0.01      0.02       394\n",
      "             transport       0.86      0.02      0.04       280\n",
      "             buildings       0.78      0.08      0.15       334\n",
      "           electricity       1.00      0.01      0.02       111\n",
      "                 tools       0.00      0.00      0.00        41\n",
      "             hospitals       0.00      0.00      0.00        60\n",
      "                 shops       0.00      0.00      0.00        28\n",
      "           aid_centers       0.00      0.00      0.00        63\n",
      "  other_infrastructure       0.67      0.01      0.01       265\n",
      "       weather_related       0.84      0.66      0.74      1837\n",
      "                floods       0.86      0.22      0.35       541\n",
      "                 storm       0.73      0.34      0.46       621\n",
      "                  fire       1.00      0.01      0.03        69\n",
      "            earthquake       0.91      0.62      0.74       641\n",
      "                  cold       0.33      0.01      0.01       133\n",
      "         other_weather       0.50      0.02      0.03       350\n",
      "         direct_report       0.69      0.41      0.51      1210\n",
      "\n",
      "             micro avg       0.81      0.50      0.62     20479\n",
      "             macro avg       0.57      0.17      0.21     20479\n",
      "          weighted avg       0.76      0.50      0.54     20479\n",
      "           samples avg       0.64      0.45      0.48     20479\n",
      "\n"
     ]
    }
   ],
   "source": [
    "target_names = [column for column in df.columns if column != 'message']\n",
    "\n",
    "Y_pred = pipeline.predict(X_train)\n",
    "print(\"Training scores:\")\n",
    "print(classification_report(Y_train, Y_pred, target_names=target_names))\n",
    "\n",
    "Y_pred = pipeline.predict(X_test)\n",
    "print(\"Testing scores:\")\n",
    "print(classification_report(Y_test, Y_pred, target_names=target_names))"
   ]
  },
  {
   "cell_type": "markdown",
   "metadata": {},
   "source": [
    "### 6. Improve your model\n",
    "Use grid search to find better parameters."
   ]
  },
  {
   "cell_type": "code",
   "execution_count": 8,
   "metadata": {},
   "outputs": [
    {
     "name": "stdout",
     "output_type": "stream",
     "text": [
      "rfclf__estimator__bootstrap: True\n",
      "rfclf__estimator__class_weight: balanced\n",
      "rfclf__estimator__criterion: gini\n",
      "rfclf__estimator__max_depth: None\n",
      "rfclf__estimator__max_features: auto\n",
      "rfclf__estimator__max_leaf_nodes: None\n",
      "rfclf__estimator__min_impurity_decrease: 0.0\n",
      "rfclf__estimator__min_impurity_split: None\n",
      "rfclf__estimator__min_samples_leaf: 1\n",
      "rfclf__estimator__min_samples_split: 2\n",
      "rfclf__estimator__min_weight_fraction_leaf: 0.0\n",
      "rfclf__estimator__n_estimators: 20\n",
      "rfclf__estimator__n_jobs: None\n",
      "rfclf__estimator__oob_score: False\n",
      "rfclf__estimator__random_state: None\n",
      "rfclf__estimator__verbose: 0\n",
      "rfclf__estimator__warm_start: False\n",
      "rfclf__estimator: RandomForestClassifier(bootstrap=True, class_weight='balanced',\n",
      "                       criterion='gini', max_depth=None, max_features='auto',\n",
      "                       max_leaf_nodes=None, min_impurity_decrease=0.0,\n",
      "                       min_impurity_split=None, min_samples_leaf=1,\n",
      "                       min_samples_split=2, min_weight_fraction_leaf=0.0,\n",
      "                       n_estimators=20, n_jobs=None, oob_score=False,\n",
      "                       random_state=None, verbose=0, warm_start=False)\n",
      "rfclf__n_jobs: None\n"
     ]
    }
   ],
   "source": [
    "for interesting_param in [param for param in pipeline.get_params(deep=True).keys() if param[0:7] == \"rfclf__\"]:\n",
    "    print(interesting_param+\":\", pipeline.get_params()[interesting_param])"
   ]
  },
  {
   "cell_type": "code",
   "execution_count": 9,
   "metadata": {},
   "outputs": [],
   "source": [
    "parameters = {\n",
    "    'rfclf__estimator__max_features':['auto', None],\n",
    "    'rfclf__estimator__n_estimators':[10, 20]\n",
    "}\n",
    "\n",
    "cv = GridSearchCV(pipeline, parameters, scoring='f1_weighted', cv=2, verbose=3, n_jobs=-1)"
   ]
  },
  {
   "cell_type": "code",
   "execution_count": 10,
   "metadata": {},
   "outputs": [
    {
     "name": "stdout",
     "output_type": "stream",
     "text": [
      "Fitting 2 folds for each of 4 candidates, totalling 8 fits\n"
     ]
    },
    {
     "name": "stderr",
     "output_type": "stream",
     "text": [
      "[Parallel(n_jobs=-1)]: Using backend LokyBackend with 8 concurrent workers.\n",
      "[Parallel(n_jobs=-1)]: Done   2 out of   8 | elapsed:   43.8s remaining:  2.2min\n",
      "[Parallel(n_jobs=-1)]: Done   5 out of   8 | elapsed:  4.0min remaining:  2.4min\n",
      "[Parallel(n_jobs=-1)]: Done   8 out of   8 | elapsed:  7.2min remaining:    0.0s\n",
      "[Parallel(n_jobs=-1)]: Done   8 out of   8 | elapsed:  7.2min finished\n"
     ]
    }
   ],
   "source": [
    "cv.fit(X_train, Y_train);"
   ]
  },
  {
   "cell_type": "markdown",
   "metadata": {},
   "source": [
    "### 7. Test your model\n",
    "Show the accuracy, precision, and recall of the tuned model.  \n",
    "\n",
    "Since this project focuses on code quality, process, and  pipelines, there is no minimum performance metric needed to pass. However, make sure to fine tune your models for accuracy, precision and recall to make your project stand out - especially for your portfolio!"
   ]
  },
  {
   "cell_type": "code",
   "execution_count": 11,
   "metadata": {},
   "outputs": [
    {
     "data": {
      "text/plain": [
       "{'rfclf__estimator__max_features': None, 'rfclf__estimator__n_estimators': 20}"
      ]
     },
     "execution_count": 11,
     "metadata": {},
     "output_type": "execute_result"
    }
   ],
   "source": [
    "cv.best_params_"
   ]
  },
  {
   "cell_type": "code",
   "execution_count": 12,
   "metadata": {},
   "outputs": [
    {
     "name": "stdout",
     "output_type": "stream",
     "text": [
      "Training scores:\n",
      "                        precision    recall  f1-score   support\n",
      "\n",
      "               related       1.00      0.99      1.00     14919\n",
      "               request       0.99      0.98      0.98      3387\n",
      "                 offer       0.96      0.95      0.95        93\n",
      "           aid_related       0.99      0.99      0.99      8197\n",
      "          medical_help       0.99      0.95      0.97      1562\n",
      "      medical_products       0.99      0.95      0.97       998\n",
      "     search_and_rescue       0.99      0.93      0.96       540\n",
      "              security       0.98      0.92      0.95       356\n",
      "              military       0.99      0.97      0.98       641\n",
      "           child_alone       0.00      0.00      0.00         0\n",
      "                 water       0.99      0.98      0.98      1260\n",
      "                  food       0.99      0.99      0.99      2223\n",
      "               shelter       0.99      0.98      0.98      1743\n",
      "              clothing       0.99      0.96      0.97       312\n",
      "                 money       0.99      0.94      0.96       450\n",
      "        missing_people       0.99      0.90      0.94       230\n",
      "              refugees       1.00      0.95      0.97       678\n",
      "                 death       0.99      0.96      0.98       866\n",
      "             other_aid       0.99      0.96      0.98      2585\n",
      "infrastructure_related       1.00      0.94      0.97      1311\n",
      "             transport       0.99      0.94      0.96       921\n",
      "             buildings       0.98      0.98      0.98       999\n",
      "           electricity       0.99      0.95      0.97       421\n",
      "                 tools       0.97      0.94      0.95       118\n",
      "             hospitals       0.99      0.93      0.96       223\n",
      "                 shops       1.00      0.92      0.96        92\n",
      "           aid_centers       0.97      0.94      0.95       246\n",
      "  other_infrastructure       0.99      0.94      0.96       886\n",
      "       weather_related       0.99      0.99      0.99      5460\n",
      "                floods       0.99      0.96      0.98      1614\n",
      "                 storm       0.99      0.99      0.99      1822\n",
      "                  fire       0.99      0.93      0.96       213\n",
      "            earthquake       0.99      0.98      0.99      1814\n",
      "                  cold       0.98      0.95      0.97       397\n",
      "         other_weather       0.98      0.95      0.97      1026\n",
      "         direct_report       0.99      0.97      0.98      3865\n",
      "\n",
      "             micro avg       0.99      0.98      0.98     62468\n",
      "             macro avg       0.96      0.93      0.94     62468\n",
      "          weighted avg       0.99      0.98      0.98     62468\n",
      "           samples avg       0.76      0.75      0.75     62468\n",
      "\n"
     ]
    },
    {
     "name": "stderr",
     "output_type": "stream",
     "text": [
      "/anaconda3/envs/desaster_response_pipeline/lib/python3.7/site-packages/sklearn/metrics/classification.py:1437: UndefinedMetricWarning: Precision and F-score are ill-defined and being set to 0.0 in labels with no predicted samples.\n",
      "  'precision', 'predicted', average, warn_for)\n",
      "/anaconda3/envs/desaster_response_pipeline/lib/python3.7/site-packages/sklearn/metrics/classification.py:1439: UndefinedMetricWarning: Recall and F-score are ill-defined and being set to 0.0 in labels with no true samples.\n",
      "  'recall', 'true', average, warn_for)\n",
      "/anaconda3/envs/desaster_response_pipeline/lib/python3.7/site-packages/sklearn/metrics/classification.py:1437: UndefinedMetricWarning: Precision and F-score are ill-defined and being set to 0.0 in samples with no predicted labels.\n",
      "  'precision', 'predicted', average, warn_for)\n",
      "/anaconda3/envs/desaster_response_pipeline/lib/python3.7/site-packages/sklearn/metrics/classification.py:1439: UndefinedMetricWarning: Recall and F-score are ill-defined and being set to 0.0 in samples with no true labels.\n",
      "  'recall', 'true', average, warn_for)\n"
     ]
    },
    {
     "name": "stdout",
     "output_type": "stream",
     "text": [
      "Testing scores:\n",
      "                        precision    recall  f1-score   support\n",
      "\n",
      "               related       0.86      0.89      0.88      4987\n",
      "               request       0.62      0.63      0.62      1087\n",
      "                 offer       0.04      0.04      0.04        25\n",
      "           aid_related       0.70      0.70      0.70      2663\n",
      "          medical_help       0.45      0.45      0.45       522\n",
      "      medical_products       0.40      0.37      0.39       315\n",
      "     search_and_rescue       0.45      0.23      0.30       184\n",
      "              security       0.18      0.10      0.13       115\n",
      "              military       0.43      0.57      0.49       219\n",
      "           child_alone       0.00      0.00      0.00         0\n",
      "                 water       0.72      0.76      0.74       412\n",
      "                  food       0.75      0.79      0.77       700\n",
      "               shelter       0.62      0.65      0.63       571\n",
      "              clothing       0.64      0.54      0.58        93\n",
      "                 money       0.42      0.49      0.46       154\n",
      "        missing_people       0.61      0.25      0.35        68\n",
      "              refugees       0.34      0.30      0.32       197\n",
      "                 death       0.66      0.65      0.66       328\n",
      "             other_aid       0.40      0.31      0.35       861\n",
      "infrastructure_related       0.24      0.15      0.19       394\n",
      "             transport       0.51      0.34      0.41       280\n",
      "             buildings       0.46      0.54      0.50       334\n",
      "           electricity       0.31      0.45      0.37       111\n",
      "                 tools       0.19      0.12      0.15        41\n",
      "             hospitals       0.22      0.32      0.26        60\n",
      "                 shops       0.00      0.00      0.00        28\n",
      "           aid_centers       0.18      0.24      0.21        63\n",
      "  other_infrastructure       0.17      0.12      0.15       265\n",
      "       weather_related       0.80      0.79      0.79      1837\n",
      "                floods       0.75      0.64      0.69       541\n",
      "                 storm       0.65      0.76      0.70       621\n",
      "                  fire       0.60      0.42      0.50        69\n",
      "            earthquake       0.85      0.83      0.84       641\n",
      "                  cold       0.50      0.60      0.55       133\n",
      "         other_weather       0.34      0.32      0.33       350\n",
      "         direct_report       0.53      0.54      0.54      1210\n",
      "\n",
      "             micro avg       0.67      0.66      0.67     20479\n",
      "             macro avg       0.46      0.44      0.45     20479\n",
      "          weighted avg       0.66      0.66      0.66     20479\n",
      "           samples avg       0.54      0.54      0.49     20479\n",
      "\n"
     ]
    }
   ],
   "source": [
    "target_names = [column for column in df.columns if column != 'message']\n",
    "\n",
    "Y_pred = cv.predict(X_train)\n",
    "print(\"Training scores:\")\n",
    "print(classification_report(Y_train, Y_pred, target_names=target_names))\n",
    "\n",
    "Y_pred = cv.predict(X_test)\n",
    "print(\"Testing scores:\")\n",
    "print(classification_report(Y_test, Y_pred, target_names=target_names))"
   ]
  },
  {
   "cell_type": "markdown",
   "metadata": {},
   "source": [
    "### 8. Try improving your model further. Here are a few ideas:\n",
    "* try other machine learning algorithms\n",
    "* add other features besides the TF-IDF"
   ]
  },
  {
   "cell_type": "code",
   "execution_count": 13,
   "metadata": {},
   "outputs": [],
   "source": [
    "pipeline = Pipeline([\n",
    "    ('vectr', CountVectorizer(tokenizer=tokenize)),\n",
    "    ('tfidf', TfidfTransformer()),\n",
    "    ('rfclf', MultiOutputClassifier(KNeighborsClassifier()))\n",
    "], verbose=True)"
   ]
  },
  {
   "cell_type": "code",
   "execution_count": 14,
   "metadata": {},
   "outputs": [
    {
     "name": "stdout",
     "output_type": "stream",
     "text": [
      "[Pipeline] ............. (step 1 of 3) Processing vectr, total=   7.7s\n",
      "[Pipeline] ............. (step 2 of 3) Processing tfidf, total=   0.0s\n",
      "[Pipeline] ............. (step 3 of 3) Processing rfclf, total=   0.1s\n"
     ]
    }
   ],
   "source": [
    "pipeline.fit(X_train, Y_train);"
   ]
  },
  {
   "cell_type": "code",
   "execution_count": 15,
   "metadata": {},
   "outputs": [
    {
     "name": "stdout",
     "output_type": "stream",
     "text": [
      "Training scores:\n",
      "                        precision    recall  f1-score   support\n",
      "\n",
      "               related       0.86      0.97      0.91     14919\n",
      "               request       0.88      0.55      0.67      3387\n",
      "                 offer       1.00      0.02      0.04        93\n",
      "           aid_related       0.89      0.56      0.68      8197\n",
      "          medical_help       0.87      0.15      0.26      1562\n",
      "      medical_products       0.92      0.17      0.29       998\n",
      "     search_and_rescue       0.87      0.07      0.14       540\n",
      "              security       0.88      0.02      0.04       356\n",
      "              military       0.90      0.18      0.30       641\n",
      "           child_alone       0.00      0.00      0.00         0\n",
      "                 water       0.91      0.34      0.49      1260\n",
      "                  food       0.89      0.41      0.56      2223\n",
      "               shelter       0.90      0.27      0.42      1743\n",
      "              clothing       0.88      0.22      0.35       312\n",
      "                 money       0.85      0.11      0.20       450\n",
      "        missing_people       0.90      0.04      0.08       230\n",
      "              refugees       0.91      0.09      0.16       678\n",
      "                 death       0.92      0.23      0.36       866\n",
      "             other_aid       0.84      0.13      0.23      2585\n",
      "infrastructure_related       0.80      0.05      0.10      1311\n",
      "             transport       0.95      0.12      0.21       921\n",
      "             buildings       0.93      0.19      0.32       999\n",
      "           electricity       0.94      0.14      0.25       421\n",
      "                 tools       0.00      0.00      0.00       118\n",
      "             hospitals       0.80      0.02      0.04       223\n",
      "                 shops       0.00      0.00      0.00        92\n",
      "           aid_centers       0.33      0.01      0.02       246\n",
      "  other_infrastructure       0.80      0.04      0.08       886\n",
      "       weather_related       0.90      0.52      0.66      5460\n",
      "                floods       0.90      0.23      0.37      1614\n",
      "                 storm       0.89      0.36      0.51      1822\n",
      "                  fire       0.91      0.15      0.26       213\n",
      "            earthquake       0.89      0.55      0.68      1814\n",
      "                  cold       0.89      0.13      0.22       397\n",
      "         other_weather       0.86      0.12      0.21      1026\n",
      "         direct_report       0.87      0.43      0.57      3865\n",
      "\n",
      "             micro avg       0.87      0.50      0.64     62468\n",
      "             macro avg       0.80      0.21      0.30     62468\n",
      "          weighted avg       0.87      0.50      0.58     62468\n",
      "           samples avg       0.71      0.47      0.52     62468\n",
      "\n"
     ]
    },
    {
     "name": "stderr",
     "output_type": "stream",
     "text": [
      "/anaconda3/envs/desaster_response_pipeline/lib/python3.7/site-packages/sklearn/metrics/classification.py:1437: UndefinedMetricWarning: Precision and F-score are ill-defined and being set to 0.0 in labels with no predicted samples.\n",
      "  'precision', 'predicted', average, warn_for)\n",
      "/anaconda3/envs/desaster_response_pipeline/lib/python3.7/site-packages/sklearn/metrics/classification.py:1439: UndefinedMetricWarning: Recall and F-score are ill-defined and being set to 0.0 in labels with no true samples.\n",
      "  'recall', 'true', average, warn_for)\n",
      "/anaconda3/envs/desaster_response_pipeline/lib/python3.7/site-packages/sklearn/metrics/classification.py:1437: UndefinedMetricWarning: Precision and F-score are ill-defined and being set to 0.0 in samples with no predicted labels.\n",
      "  'precision', 'predicted', average, warn_for)\n",
      "/anaconda3/envs/desaster_response_pipeline/lib/python3.7/site-packages/sklearn/metrics/classification.py:1439: UndefinedMetricWarning: Recall and F-score are ill-defined and being set to 0.0 in samples with no true labels.\n",
      "  'recall', 'true', average, warn_for)\n"
     ]
    },
    {
     "name": "stdout",
     "output_type": "stream",
     "text": [
      "Testing scores:\n",
      "                        precision    recall  f1-score   support\n",
      "\n",
      "               related       0.82      0.93      0.87      4987\n",
      "               request       0.70      0.43      0.54      1087\n",
      "                 offer       0.00      0.00      0.00        25\n",
      "           aid_related       0.72      0.42      0.53      2663\n",
      "          medical_help       0.51      0.06      0.11       522\n",
      "      medical_products       0.75      0.12      0.21       315\n",
      "     search_and_rescue       0.50      0.03      0.05       184\n",
      "              security       0.00      0.00      0.00       115\n",
      "              military       0.55      0.07      0.13       219\n",
      "           child_alone       0.00      0.00      0.00         0\n",
      "                 water       0.73      0.23      0.35       412\n",
      "                  food       0.73      0.26      0.39       700\n",
      "               shelter       0.63      0.14      0.23       571\n",
      "              clothing       0.83      0.11      0.19        93\n",
      "                 money       0.75      0.06      0.11       154\n",
      "        missing_people       0.00      0.00      0.00        68\n",
      "              refugees       0.33      0.03      0.05       197\n",
      "                 death       0.84      0.15      0.25       328\n",
      "             other_aid       0.41      0.06      0.10       861\n",
      "infrastructure_related       0.56      0.02      0.04       394\n",
      "             transport       0.58      0.07      0.13       280\n",
      "             buildings       0.72      0.09      0.16       334\n",
      "           electricity       0.62      0.09      0.16       111\n",
      "                 tools       0.00      0.00      0.00        41\n",
      "             hospitals       0.00      0.00      0.00        60\n",
      "                 shops       0.00      0.00      0.00        28\n",
      "           aid_centers       0.00      0.00      0.00        63\n",
      "  other_infrastructure       0.73      0.03      0.06       265\n",
      "       weather_related       0.76      0.41      0.53      1837\n",
      "                floods       0.76      0.17      0.28       541\n",
      "                 storm       0.67      0.21      0.31       621\n",
      "                  fire       0.62      0.07      0.13        69\n",
      "            earthquake       0.80      0.43      0.56       641\n",
      "                  cold       0.53      0.07      0.12       133\n",
      "         other_weather       0.40      0.03      0.06       350\n",
      "         direct_report       0.61      0.30      0.40      1210\n",
      "\n",
      "             micro avg       0.76      0.42      0.54     20479\n",
      "             macro avg       0.51      0.14      0.20     20479\n",
      "          weighted avg       0.69      0.42      0.47     20479\n",
      "           samples avg       0.65      0.41      0.44     20479\n",
      "\n"
     ]
    }
   ],
   "source": [
    "target_names = [column for column in df.columns if column != 'message']\n",
    "\n",
    "Y_pred = pipeline.predict(X_train)\n",
    "print(\"Training scores:\")\n",
    "print(classification_report(Y_train, Y_pred, target_names=target_names))\n",
    "\n",
    "Y_pred = pipeline.predict(X_test)\n",
    "print(\"Testing scores:\")\n",
    "print(classification_report(Y_test, Y_pred, target_names=target_names))"
   ]
  },
  {
   "cell_type": "markdown",
   "metadata": {},
   "source": [
    "### 9. Export your model as a pickle file"
   ]
  },
  {
   "cell_type": "code",
   "execution_count": 23,
   "metadata": {},
   "outputs": [],
   "source": [
    "# Final model with parameter optimal \n",
    "# according to gridsearch above\n",
    "# and in comparison to the alternative model\n",
    "model = Pipeline([\n",
    "        ('vectr', CountVectorizer(tokenizer=tokenize)),\n",
    "        ('tfidf', TfidfTransformer()),\n",
    "        ('rfclf', MultiOutputClassifier(\n",
    "            RandomForestClassifier(class_weight='balanced', \n",
    "                                   n_estimators=20, \n",
    "                                   max_features=None)))])"
   ]
  },
  {
   "cell_type": "code",
   "execution_count": 24,
   "metadata": {},
   "outputs": [
    {
     "data": {
      "text/plain": [
       "Pipeline(memory=None,\n",
       "         steps=[('vectr',\n",
       "                 CountVectorizer(analyzer='word', binary=False,\n",
       "                                 decode_error='strict',\n",
       "                                 dtype=<class 'numpy.int64'>, encoding='utf-8',\n",
       "                                 input='content', lowercase=True, max_df=1.0,\n",
       "                                 max_features=None, min_df=1,\n",
       "                                 ngram_range=(1, 1), preprocessor=None,\n",
       "                                 stop_words=None, strip_accents=None,\n",
       "                                 token_pattern='(?u)\\\\b\\\\w\\\\w+\\\\b',\n",
       "                                 tokenizer=<function tokenize a...\n",
       "                 MultiOutputClassifier(estimator=RandomForestClassifier(bootstrap=True,\n",
       "                                                                        class_weight='balanced',\n",
       "                                                                        criterion='gini',\n",
       "                                                                        max_depth=None,\n",
       "                                                                        max_features=None,\n",
       "                                                                        max_leaf_nodes=None,\n",
       "                                                                        min_impurity_decrease=0.0,\n",
       "                                                                        min_impurity_split=None,\n",
       "                                                                        min_samples_leaf=1,\n",
       "                                                                        min_samples_split=2,\n",
       "                                                                        min_weight_fraction_leaf=0.0,\n",
       "                                                                        n_estimators=20,\n",
       "                                                                        n_jobs=None,\n",
       "                                                                        oob_score=False,\n",
       "                                                                        random_state=None,\n",
       "                                                                        verbose=0,\n",
       "                                                                        warm_start=False),\n",
       "                                       n_jobs=None))],\n",
       "         verbose=False)"
      ]
     },
     "execution_count": 24,
     "metadata": {},
     "output_type": "execute_result"
    }
   ],
   "source": [
    "model.fit(X_train, Y_train)"
   ]
  },
  {
   "cell_type": "code",
   "execution_count": 25,
   "metadata": {},
   "outputs": [],
   "source": [
    "pickle.dump(model, open('model.pickle', 'wb'))"
   ]
  },
  {
   "cell_type": "markdown",
   "metadata": {},
   "source": [
    "### 10. Use this notebook to complete `train.py`\n",
    "Use the template file attached in the Resources folder to write a script that runs the steps above to create a database and export a model based on a new dataset specified by the user."
   ]
  }
 ],
 "metadata": {
  "kernelspec": {
   "display_name": "Python 3",
   "language": "python",
   "name": "python3"
  },
  "language_info": {
   "codemirror_mode": {
    "name": "ipython",
    "version": 3
   },
   "file_extension": ".py",
   "mimetype": "text/x-python",
   "name": "python",
   "nbconvert_exporter": "python",
   "pygments_lexer": "ipython3",
   "version": "3.7.4"
  }
 },
 "nbformat": 4,
 "nbformat_minor": 4
}
